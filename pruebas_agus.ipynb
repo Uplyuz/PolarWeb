{
 "cells": [
  {
   "cell_type": "code",
   "execution_count": 1,
   "metadata": {},
   "outputs": [
    {
     "name": "stderr",
     "output_type": "stream",
     "text": [
      "Some weights of RobertaForSequenceClassification were not initialized from the model checkpoint at roberta-base and are newly initialized: ['classifier.dense.bias', 'classifier.dense.weight', 'classifier.out_proj.bias', 'classifier.out_proj.weight']\n",
      "You should probably TRAIN this model on a down-stream task to be able to use it for predictions and inference.\n"
     ]
    }
   ],
   "source": [
    "import plotly.express as px\n",
    "import streamlit as st\n",
    "import requests\n",
    "import pandas as pd\n",
    "from translate_API_output import traducir, traducir_tweets, preprocess_tweet\n",
    "import matplotlib.pyplot as plt\n",
    "import seaborn as sns\n",
    "from wordcloud import WordCloud\n",
    "from deep_translator import GoogleTranslator\n",
    "import re\n",
    "import streamlit as st\n",
    "import torch\n",
    "from transformers import RobertaTokenizer\n",
    "from custom_class_final_model import CustomRobertaModel\n",
    "from model_load_apply import load_custom_sentiment_model, predict_sentiment, analyze_sentiments\n",
    "from dashboard_charts import plot_wordcloud, sentiment_dist, format_data_model_output, obtain_summary, likes_over_words_amount, sentiment_dist_plotly, create_banner\n",
    "import plotly.graph_objects as go\n",
    "from PIL import Image\n",
    "import numpy as np"
   ]
  }
 ],
 "metadata": {
  "kernelspec": {
   "display_name": "Python 3",
   "language": "python",
   "name": "python3"
  },
  "language_info": {
   "codemirror_mode": {
    "name": "ipython",
    "version": 3
   },
   "file_extension": ".py",
   "mimetype": "text/x-python",
   "name": "python",
   "nbconvert_exporter": "python",
   "pygments_lexer": "ipython3",
   "version": "3.12.5"
  }
 },
 "nbformat": 4,
 "nbformat_minor": 2
}
